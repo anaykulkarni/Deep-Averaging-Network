{
 "cells": [
  {
   "cell_type": "code",
   "execution_count": null,
   "id": "b04f2820-5db7-4045-b41c-ab31947785c8",
   "metadata": {},
   "outputs": [],
   "source": [
    "!py DANmodels.py --model 2a"
   ]
  }
 ],
 "metadata": {
  "kernelspec": {
   "display_name": "Python 3 (ipykernel)",
   "language": "python",
   "name": "python3"
  },
  "language_info": {
   "codemirror_mode": {
    "name": "ipython",
    "version": 3
   },
   "file_extension": ".py",
   "mimetype": "text/x-python",
   "name": "python",
   "nbconvert_exporter": "python",
   "pygments_lexer": "ipython3",
   "version": "3.11.8"
  }
 },
 "nbformat": 4,
 "nbformat_minor": 5
}
